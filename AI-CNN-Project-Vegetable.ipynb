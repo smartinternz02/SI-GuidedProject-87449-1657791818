{
 "cells": [
  {
   "cell_type": "code",
   "execution_count": null,
   "id": "f183a352",
   "metadata": {},
   "outputs": [],
   "source": [
    "from io import BytesIO\n",
    "import zipfile\n",
    "unzip = zipfile.ZipFile('Fertilizers_Recommendation_ System_For_Disease_ Prediction.zip')\n",
    "file_path = unzip.namelist()\n",
    "for path in file_path:\n",
    "    unzip.extract(path)"
   ]
  },
  {
   "cell_type": "code",
   "execution_count": 2,
   "id": "7d384929",
   "metadata": {
    "scrolled": true
   },
   "outputs": [],
   "source": [
    "from tensorflow.keras.preprocessing.image import ImageDataGenerator"
   ]
  },
  {
   "cell_type": "code",
   "execution_count": 113,
   "id": "a32e0fd3",
   "metadata": {},
   "outputs": [],
   "source": [
    "train_datagen = ImageDataGenerator(rescale=1./255, shear_range = 0.03, zoom_range=0.3,horizontal_flip=True)"
   ]
  },
  {
   "cell_type": "code",
   "execution_count": 114,
   "id": "5ab0befd",
   "metadata": {},
   "outputs": [],
   "source": [
    "test_datagen = ImageDataGenerator(rescale=1./255)"
   ]
  },
  {
   "cell_type": "code",
   "execution_count": 115,
   "id": "b26f1f67",
   "metadata": {},
   "outputs": [
    {
     "data": {
      "text/plain": [
       "'C:\\\\Users\\\\debas\\\\Desktop\\\\AI_AICTE\\\\Guided project'"
      ]
     },
     "execution_count": 115,
     "metadata": {},
     "output_type": "execute_result"
    }
   ],
   "source": [
    "pwd"
   ]
  },
  {
   "cell_type": "code",
   "execution_count": 116,
   "id": "83a51cf5",
   "metadata": {
    "scrolled": true
   },
   "outputs": [
    {
     "name": "stdout",
     "output_type": "stream",
     "text": [
      "Found 11386 images belonging to 9 classes.\n"
     ]
    }
   ],
   "source": [
    "x_train = train_datagen.flow_from_directory(r\"C:\\Users\\debas\\Desktop\\AI_AICTE\\Guided project\\Dataset Plant Disease\\Veg-dataset\\Veg-dataset\\train_set\",target_size=(128,128),class_mode='categorical' , batch_size=32)"
   ]
  },
  {
   "cell_type": "code",
   "execution_count": 117,
   "id": "1c19c9a3",
   "metadata": {},
   "outputs": [
    {
     "name": "stdout",
     "output_type": "stream",
     "text": [
      "Found 3416 images belonging to 9 classes.\n"
     ]
    }
   ],
   "source": [
    "x_test = test_datagen.flow_from_directory(r\"C:\\Users\\debas\\Desktop\\AI_AICTE\\Guided project\\Dataset Plant Disease\\Veg-dataset\\Veg-dataset\\test_set\",target_size=(128,128),class_mode='categorical' , batch_size=32)"
   ]
  },
  {
   "cell_type": "code",
   "execution_count": 118,
   "id": "5398a758",
   "metadata": {},
   "outputs": [
    {
     "data": {
      "text/plain": [
       "{'Pepper,_bell___Bacterial_spot': 0,\n",
       " 'Pepper,_bell___healthy': 1,\n",
       " 'Potato___Early_blight': 2,\n",
       " 'Potato___Late_blight': 3,\n",
       " 'Potato___healthy': 4,\n",
       " 'Tomato___Bacterial_spot': 5,\n",
       " 'Tomato___Late_blight': 6,\n",
       " 'Tomato___Leaf_Mold': 7,\n",
       " 'Tomato___Septoria_leaf_spot': 8}"
      ]
     },
     "execution_count": 118,
     "metadata": {},
     "output_type": "execute_result"
    }
   ],
   "source": [
    "x_train.class_indices"
   ]
  },
  {
   "cell_type": "code",
   "execution_count": 119,
   "id": "d46c668a",
   "metadata": {},
   "outputs": [],
   "source": [
    "from tensorflow.keras.models import Sequential\n",
    "from tensorflow.keras.layers import Dense, Convolution2D, MaxPooling2D, Flatten"
   ]
  },
  {
   "cell_type": "code",
   "execution_count": 120,
   "id": "e46650a2",
   "metadata": {},
   "outputs": [],
   "source": [
    "model = Sequential()"
   ]
  },
  {
   "cell_type": "code",
   "execution_count": 121,
   "id": "3cf62c2a",
   "metadata": {},
   "outputs": [],
   "source": [
    "model.add(Convolution2D(32,(7,7),input_shape=(128,128,3),activation='relu'))"
   ]
  },
  {
   "cell_type": "code",
   "execution_count": 122,
   "id": "41f04b51",
   "metadata": {},
   "outputs": [],
   "source": [
    "model.add(MaxPooling2D(pool_size=(2,2)))"
   ]
  },
  {
   "cell_type": "code",
   "execution_count": 123,
   "id": "4ba7b7a5",
   "metadata": {},
   "outputs": [],
   "source": [
    "model.add(Convolution2D(32,(5,5),activation='relu'))"
   ]
  },
  {
   "cell_type": "code",
   "execution_count": 124,
   "id": "f2e33f19",
   "metadata": {},
   "outputs": [],
   "source": [
    "model.add(MaxPooling2D(pool_size=(2,2)))"
   ]
  },
  {
   "cell_type": "code",
   "execution_count": 125,
   "id": "10e1d3a9",
   "metadata": {},
   "outputs": [],
   "source": [
    "model.add(Flatten())"
   ]
  },
  {
   "cell_type": "code",
   "execution_count": 126,
   "id": "ea39ce63",
   "metadata": {},
   "outputs": [
    {
     "name": "stdout",
     "output_type": "stream",
     "text": [
      "Model: \"sequential_6\"\n",
      "_________________________________________________________________\n",
      " Layer (type)                Output Shape              Param #   \n",
      "=================================================================\n",
      " conv2d_12 (Conv2D)          (None, 122, 122, 32)      4736      \n",
      "                                                                 \n",
      " max_pooling2d_11 (MaxPoolin  (None, 61, 61, 32)       0         \n",
      " g2D)                                                            \n",
      "                                                                 \n",
      " conv2d_13 (Conv2D)          (None, 57, 57, 32)        25632     \n",
      "                                                                 \n",
      " max_pooling2d_12 (MaxPoolin  (None, 28, 28, 32)       0         \n",
      " g2D)                                                            \n",
      "                                                                 \n",
      " flatten_5 (Flatten)         (None, 25088)             0         \n",
      "                                                                 \n",
      "=================================================================\n",
      "Total params: 30,368\n",
      "Trainable params: 30,368\n",
      "Non-trainable params: 0\n",
      "_________________________________________________________________\n"
     ]
    }
   ],
   "source": [
    "model.summary()"
   ]
  },
  {
   "cell_type": "code",
   "execution_count": 127,
   "id": "6e819f9b",
   "metadata": {},
   "outputs": [],
   "source": [
    "model.add(Dense(200,activation = 'relu'))\n",
    "model.add(Dense(100,activation = 'relu'))\n",
    "model.add(Dense(50,activation = 'relu'))\n",
    "model.add(Dense(25, activation = 'relu'))\n",
    "model.add(Dense(10, activation = 'relu'))"
   ]
  },
  {
   "cell_type": "code",
   "execution_count": 128,
   "id": "4f1d0f52",
   "metadata": {},
   "outputs": [],
   "source": [
    "model.add(Dense(9,activation = 'softmax'))"
   ]
  },
  {
   "cell_type": "code",
   "execution_count": 129,
   "id": "9765f260",
   "metadata": {},
   "outputs": [],
   "source": [
    "model.compile(loss='categorical_crossentropy',optimizer='adam',metrics=['accuracy'])"
   ]
  },
  {
   "cell_type": "code",
   "execution_count": 130,
   "id": "e369856f",
   "metadata": {},
   "outputs": [
    {
     "data": {
      "text/plain": [
       "356"
      ]
     },
     "execution_count": 130,
     "metadata": {},
     "output_type": "execute_result"
    }
   ],
   "source": [
    "len(x_train)"
   ]
  },
  {
   "cell_type": "code",
   "execution_count": 131,
   "id": "fe1aaf2c",
   "metadata": {},
   "outputs": [
    {
     "data": {
      "text/plain": [
       "107"
      ]
     },
     "execution_count": 131,
     "metadata": {},
     "output_type": "execute_result"
    }
   ],
   "source": [
    "len(x_test)"
   ]
  },
  {
   "cell_type": "code",
   "execution_count": 133,
   "id": "eded65e2",
   "metadata": {
    "scrolled": true
   },
   "outputs": [
    {
     "name": "stdout",
     "output_type": "stream",
     "text": [
      "Epoch 1/20\n",
      "356/356 [==============================] - 461s 1s/step - loss: 1.8219 - accuracy: 0.2977 - val_loss: 1.5584 - val_accuracy: 0.3961\n",
      "Epoch 2/20\n",
      "356/356 [==============================] - 450s 1s/step - loss: 1.4561 - accuracy: 0.4627 - val_loss: 1.2969 - val_accuracy: 0.4994\n",
      "Epoch 3/20\n",
      "356/356 [==============================] - 264s 740ms/step - loss: 1.1522 - accuracy: 0.5842 - val_loss: 0.9305 - val_accuracy: 0.6698\n",
      "Epoch 4/20\n",
      "356/356 [==============================] - 558s 2s/step - loss: 0.8361 - accuracy: 0.7073 - val_loss: 0.8482 - val_accuracy: 0.7204\n",
      "Epoch 5/20\n",
      "356/356 [==============================] - 275s 772ms/step - loss: 0.6643 - accuracy: 0.7699 - val_loss: 0.4677 - val_accuracy: 0.8317\n",
      "Epoch 6/20\n",
      "356/356 [==============================] - 278s 779ms/step - loss: 0.5613 - accuracy: 0.8067 - val_loss: 0.4152 - val_accuracy: 0.8451\n",
      "Epoch 7/20\n",
      "356/356 [==============================] - 262s 735ms/step - loss: 0.5044 - accuracy: 0.8299 - val_loss: 0.5447 - val_accuracy: 0.8203\n",
      "Epoch 8/20\n",
      "356/356 [==============================] - 277s 777ms/step - loss: 0.4624 - accuracy: 0.8430 - val_loss: 0.2923 - val_accuracy: 0.8981\n",
      "Epoch 9/20\n",
      "356/356 [==============================] - 263s 739ms/step - loss: 0.3975 - accuracy: 0.8637 - val_loss: 0.3824 - val_accuracy: 0.8662\n",
      "Epoch 10/20\n",
      "356/356 [==============================] - 267s 751ms/step - loss: 0.3918 - accuracy: 0.8629 - val_loss: 0.2817 - val_accuracy: 0.8926\n",
      "Epoch 11/20\n",
      "356/356 [==============================] - 240s 674ms/step - loss: 0.3489 - accuracy: 0.8780 - val_loss: 0.2447 - val_accuracy: 0.9142\n",
      "Epoch 12/20\n",
      "356/356 [==============================] - 228s 640ms/step - loss: 0.3223 - accuracy: 0.8905 - val_loss: 0.1985 - val_accuracy: 0.9347\n",
      "Epoch 13/20\n",
      "356/356 [==============================] - 227s 636ms/step - loss: 0.3042 - accuracy: 0.8965 - val_loss: 0.2339 - val_accuracy: 0.9189\n",
      "Epoch 14/20\n",
      "356/356 [==============================] - 237s 665ms/step - loss: 0.2981 - accuracy: 0.8950 - val_loss: 0.2278 - val_accuracy: 0.9183\n",
      "Epoch 15/20\n",
      "356/356 [==============================] - 226s 633ms/step - loss: 0.2643 - accuracy: 0.9094 - val_loss: 0.1334 - val_accuracy: 0.9532\n",
      "Epoch 16/20\n",
      "356/356 [==============================] - 228s 639ms/step - loss: 0.2408 - accuracy: 0.9167 - val_loss: 0.1362 - val_accuracy: 0.9476\n",
      "Epoch 17/20\n",
      "356/356 [==============================] - 231s 648ms/step - loss: 0.2297 - accuracy: 0.9203 - val_loss: 0.2791 - val_accuracy: 0.9034\n",
      "Epoch 18/20\n",
      "356/356 [==============================] - 3870s 11s/step - loss: 0.2233 - accuracy: 0.9243 - val_loss: 0.1764 - val_accuracy: 0.9368\n",
      "Epoch 19/20\n",
      "356/356 [==============================] - 222s 623ms/step - loss: 0.2167 - accuracy: 0.9264 - val_loss: 0.1060 - val_accuracy: 0.9622\n",
      "Epoch 20/20\n",
      "356/356 [==============================] - 200s 561ms/step - loss: 0.2062 - accuracy: 0.9278 - val_loss: 0.1347 - val_accuracy: 0.9537\n"
     ]
    },
    {
     "data": {
      "text/plain": [
       "<keras.callbacks.History at 0x2332be45040>"
      ]
     },
     "execution_count": 133,
     "metadata": {},
     "output_type": "execute_result"
    }
   ],
   "source": [
    "model.fit(x_train,steps_per_epoch= len(x_train), validation_data=x_test,validation_steps=len(x_test),epochs=20)"
   ]
  },
  {
   "cell_type": "code",
   "execution_count": 149,
   "id": "5c802cf6",
   "metadata": {},
   "outputs": [
    {
     "name": "stderr",
     "output_type": "stream",
     "text": [
      "WARNING:absl:Found untraced functions such as _jit_compiled_convolution_op, _jit_compiled_convolution_op while saving (showing 2 of 2). These functions will not be directly callable after loading.\n"
     ]
    },
    {
     "name": "stdout",
     "output_type": "stream",
     "text": [
      "INFO:tensorflow:Assets written to: vegetable\\assets\n"
     ]
    },
    {
     "name": "stderr",
     "output_type": "stream",
     "text": [
      "INFO:tensorflow:Assets written to: vegetable\\assets\n"
     ]
    }
   ],
   "source": [
    "model.save('vegetable')"
   ]
  },
  {
   "cell_type": "code",
   "execution_count": 135,
   "id": "c9d463a7",
   "metadata": {},
   "outputs": [],
   "source": [
    "import numpy as np\n",
    "from tensorflow.keras.models import load_model\n",
    "from tensorflow.keras.preprocessing import image"
   ]
  },
  {
   "cell_type": "code",
   "execution_count": 136,
   "id": "09d08156",
   "metadata": {},
   "outputs": [],
   "source": [
    "#Load the model\n",
    "model = load_model('vegetable')"
   ]
  },
  {
   "cell_type": "code",
   "execution_count": 137,
   "id": "6e4ddf4f",
   "metadata": {},
   "outputs": [
    {
     "data": {
      "text/plain": [
       "{'Pepper,_bell___Bacterial_spot': 0,\n",
       " 'Pepper,_bell___healthy': 1,\n",
       " 'Potato___Early_blight': 2,\n",
       " 'Potato___Late_blight': 3,\n",
       " 'Potato___healthy': 4,\n",
       " 'Tomato___Bacterial_spot': 5,\n",
       " 'Tomato___Late_blight': 6,\n",
       " 'Tomato___Leaf_Mold': 7,\n",
       " 'Tomato___Septoria_leaf_spot': 8}"
      ]
     },
     "execution_count": 137,
     "metadata": {},
     "output_type": "execute_result"
    }
   ],
   "source": [
    "x_train.class_indices"
   ]
  },
  {
   "cell_type": "code",
   "execution_count": 138,
   "id": "f2949ab6",
   "metadata": {},
   "outputs": [],
   "source": [
    "index  = ['Pepper,_bell___Bacterial_spot','Pepper,_bell___healthy','Potato___Early_blight','Potato___healthy','Potato___Late_blight','Tomato___Bacterial_spot','Tomato___Late_blight','Tomato___Leaf_Mold','Tomato___Septoria_leaf_spot']"
   ]
  },
  {
   "cell_type": "code",
   "execution_count": 139,
   "id": "7dde8096",
   "metadata": {},
   "outputs": [
    {
     "name": "stdout",
     "output_type": "stream",
     "text": [
      "1/1 [==============================] - 0s 103ms/step\n"
     ]
    },
    {
     "data": {
      "text/plain": [
       "'Pepper,_bell___Bacterial_spot'"
      ]
     },
     "execution_count": 139,
     "metadata": {},
     "output_type": "execute_result"
    }
   ],
   "source": [
    "img = image.load_img(r\"C:\\Users\\debas\\Desktop\\AI_AICTE\\Guided project\\Dataset Plant Disease\\Veg-dataset\\Veg-dataset\\test_set\\Pepper,_bell___Bacterial_spot\\b0d97a12-ed6a-41f0-9772-bb3b801e6041___NREC_B.Spot 9194.jpg\",target_size=(128,128))\n",
    "x = image.img_to_array(img)\n",
    "x = np.expand_dims(x,axis=0)\n",
    "y = np.argmax(model.predict(x),axis=0)\n",
    "index  = ['Pepper,_bell___Bacterial_spot','Pepper,_bell___healthy','Potato___Early_blight','Potato___healthy','Potato___Late_blight','Tomato___Bacterial_spot','Tomato___Late_blight','Tomato___Leaf_Mold','Tomato___Septoria_leaf_spot']\n",
    "index[y[0]]"
   ]
  },
  {
   "cell_type": "code",
   "execution_count": 140,
   "id": "3a3d2176",
   "metadata": {},
   "outputs": [
    {
     "name": "stdout",
     "output_type": "stream",
     "text": [
      "1/1 [==============================] - 0s 25ms/step\n"
     ]
    },
    {
     "data": {
      "text/plain": [
       "'Pepper,_bell___healthy'"
      ]
     },
     "execution_count": 140,
     "metadata": {},
     "output_type": "execute_result"
    }
   ],
   "source": [
    "img = image.load_img(r\"C:\\Users\\debas\\Desktop\\AI_AICTE\\Guided project\\Dataset Plant Disease\\Veg-dataset\\Veg-dataset\\test_set\\Pepper,_bell___healthy\\b555e97b-a736-41c1-ab8f-43cadf71ae81___JR_HL 8000.jpg\",target_size=(128,128))\n",
    "x = image.img_to_array(img)\n",
    "x = np.expand_dims(x,axis=0)\n",
    "y = np.argmax(model.predict(x),axis=1)\n",
    "index  = ['Pepper,_bell___Bacterial_spot','Pepper,_bell___healthy','Potato___Early_blight','Potato___healthy','Potato___Late_blight','Tomato___Bacterial_spot','Tomato___Late_blight','Tomato___Leaf_Mold','Tomato___Septoria_leaf_spot']\n",
    "index[y[0]]"
   ]
  },
  {
   "cell_type": "code",
   "execution_count": 142,
   "id": "300e1c53",
   "metadata": {},
   "outputs": [
    {
     "name": "stdout",
     "output_type": "stream",
     "text": [
      "1/1 [==============================] - 0s 20ms/step\n"
     ]
    },
    {
     "data": {
      "text/plain": [
       "'Tomato___Septoria_leaf_spot'"
      ]
     },
     "execution_count": 142,
     "metadata": {},
     "output_type": "execute_result"
    }
   ],
   "source": [
    "img = image.load_img(r\"C:\\Users\\debas\\Desktop\\AI_AICTE\\Guided project\\Dataset Plant Disease\\Veg-dataset\\Veg-dataset\\test_set\\Potato___Early_blight\\bb07a1b7-b9ad-4016-a013-9ff0e4636d4a___RS_Early.B 7156.jpg\",target_size=(128,128))\n",
    "x = image.img_to_array(img)\n",
    "x = np.expand_dims(x,axis=0)\n",
    "y = np.argmax(model.predict(x),axis=1)\n",
    "index  = ['Pepper,_bell___Bacterial_spot','Pepper,_bell___healthy','Potato___Early_blight','Potato___healthy','Potato___Late_blight','Tomato___Bacterial_spot','Tomato___Late_blight','Tomato___Leaf_Mold','Tomato___Septoria_leaf_spot']\n",
    "index[y[0]]"
   ]
  },
  {
   "cell_type": "code",
   "execution_count": 143,
   "id": "228c8289",
   "metadata": {},
   "outputs": [
    {
     "name": "stdout",
     "output_type": "stream",
     "text": [
      "1/1 [==============================] - 0s 29ms/step\n"
     ]
    },
    {
     "data": {
      "text/plain": [
       "'Pepper,_bell___healthy'"
      ]
     },
     "execution_count": 143,
     "metadata": {},
     "output_type": "execute_result"
    }
   ],
   "source": [
    "img = image.load_img(r\"C:\\Users\\debas\\Desktop\\AI_AICTE\\Guided project\\Dataset Plant Disease\\Veg-dataset\\Veg-dataset\\test_set\\Potato___healthy\\e1b49d1b-165b-4f4e-8a30-735e62bc39c5___RS_HL 1839.jpg\",target_size=(128,128))\n",
    "x = image.img_to_array(img)\n",
    "x = np.expand_dims(x,axis=0)\n",
    "y = np.argmax(model.predict(x),axis=1)\n",
    "index  = ['Pepper,_bell___Bacterial_spot','Pepper,_bell___healthy','Potato___Early_blight','Potato___healthy','Potato___Late_blight','Tomato___Bacterial_spot','Tomato___Late_blight','Tomato___Leaf_Mold','Tomato___Septoria_leaf_spot']\n",
    "index[y[0]]"
   ]
  },
  {
   "cell_type": "code",
   "execution_count": 144,
   "id": "b3f7b020",
   "metadata": {},
   "outputs": [
    {
     "name": "stdout",
     "output_type": "stream",
     "text": [
      "1/1 [==============================] - 0s 29ms/step\n"
     ]
    },
    {
     "data": {
      "text/plain": [
       "'Tomato___Late_blight'"
      ]
     },
     "execution_count": 144,
     "metadata": {},
     "output_type": "execute_result"
    }
   ],
   "source": [
    "img = image.load_img(r\"C:\\Users\\debas\\Desktop\\AI_AICTE\\Guided project\\Dataset Plant Disease\\Veg-dataset\\Veg-dataset\\test_set\\Potato___Late_blight\\bc53f0fd-df00-42c6-ad50-aef25d2c6f7a___RS_LB 2954.jpg\",target_size=(128,128))\n",
    "x = image.img_to_array(img)\n",
    "x = np.expand_dims(x,axis=0)\n",
    "y = np.argmax(model.predict(x),axis=1)\n",
    "index  = ['Pepper,_bell___Bacterial_spot','Pepper,_bell___healthy','Potato___Early_blight','Potato___healthy','Potato___Late_blight','Tomato___Bacterial_spot','Tomato___Late_blight','Tomato___Leaf_Mold','Tomato___Septoria_leaf_spot']\n",
    "index[y[0]]"
   ]
  },
  {
   "cell_type": "code",
   "execution_count": 145,
   "id": "78adfc1a",
   "metadata": {},
   "outputs": [
    {
     "name": "stdout",
     "output_type": "stream",
     "text": [
      "1/1 [==============================] - 0s 19ms/step\n"
     ]
    },
    {
     "data": {
      "text/plain": [
       "'Tomato___Septoria_leaf_spot'"
      ]
     },
     "execution_count": 145,
     "metadata": {},
     "output_type": "execute_result"
    }
   ],
   "source": [
    "img = image.load_img(r\"C:\\Users\\debas\\Desktop\\AI_AICTE\\Guided project\\Dataset Plant Disease\\Veg-dataset\\Veg-dataset\\test_set\\Tomato___Bacterial_spot\\b8e606e2-0630-453f-8688-b4350feb2bce___GCREC_Bact.Sp 3033.jpg\",target_size=(128,128))\n",
    "x = image.img_to_array(img)\n",
    "x = np.expand_dims(x,axis=0)\n",
    "y = np.argmax(model.predict(x),axis=1)\n",
    "index  = ['Pepper,_bell___Bacterial_spot','Pepper,_bell___healthy','Potato___Early_blight','Potato___healthy','Potato___Late_blight','Tomato___Bacterial_spot','Tomato___Late_blight','Tomato___Leaf_Mold','Tomato___Septoria_leaf_spot']\n",
    "index[y[0]]"
   ]
  },
  {
   "cell_type": "code",
   "execution_count": 146,
   "id": "86ab503a",
   "metadata": {},
   "outputs": [
    {
     "name": "stdout",
     "output_type": "stream",
     "text": [
      "1/1 [==============================] - 0s 19ms/step\n"
     ]
    },
    {
     "data": {
      "text/plain": [
       "'Tomato___Late_blight'"
      ]
     },
     "execution_count": 146,
     "metadata": {},
     "output_type": "execute_result"
    }
   ],
   "source": [
    "img = image.load_img(r\"C:\\Users\\debas\\Desktop\\AI_AICTE\\Guided project\\Dataset Plant Disease\\Veg-dataset\\Veg-dataset\\test_set\\Tomato___Late_blight\\b3e8d2db-5531-41cc-86ce-d4ac76c5be56___RS_Late.B 7070.jpg\",target_size=(128,128))\n",
    "x = image.img_to_array(img)\n",
    "x = np.expand_dims(x,axis=0)\n",
    "y = np.argmax(model.predict(x),axis=1)\n",
    "index  = ['Pepper,_bell___Bacterial_spot','Pepper,_bell___healthy','Potato___Early_blight','Potato___healthy','Potato___Late_blight','Tomato___Bacterial_spot','Tomato___Late_blight','Tomato___Leaf_Mold','Tomato___Septoria_leaf_spot']\n",
    "index[y[0]]"
   ]
  },
  {
   "cell_type": "code",
   "execution_count": 147,
   "id": "19ab8209",
   "metadata": {},
   "outputs": [
    {
     "name": "stdout",
     "output_type": "stream",
     "text": [
      "1/1 [==============================] - 0s 20ms/step\n"
     ]
    },
    {
     "data": {
      "text/plain": [
       "'Tomato___Septoria_leaf_spot'"
      ]
     },
     "execution_count": 147,
     "metadata": {},
     "output_type": "execute_result"
    }
   ],
   "source": [
    "img = image.load_img(r\"C:\\Users\\debas\\Desktop\\AI_AICTE\\Guided project\\Dataset Plant Disease\\Veg-dataset\\Veg-dataset\\test_set\\Tomato___Leaf_Mold\\af1c1bf4-43b5-47ff-aade-ebd32635f77a___Crnl_L.Mold 7045.jpg\",target_size=(128,128))\n",
    "x = image.img_to_array(img)\n",
    "x = np.expand_dims(x,axis=0)\n",
    "y = np.argmax(model.predict(x),axis=1)\n",
    "index  = ['Pepper,_bell___Bacterial_spot','Pepper,_bell___healthy','Potato___Early_blight','Potato___healthy','Potato___Late_blight','Tomato___Bacterial_spot','Tomato___Late_blight','Tomato___Leaf_Mold','Tomato___Septoria_leaf_spot']\n",
    "index[y[0]]"
   ]
  },
  {
   "cell_type": "code",
   "execution_count": 148,
   "id": "644cf671",
   "metadata": {},
   "outputs": [
    {
     "name": "stdout",
     "output_type": "stream",
     "text": [
      "1/1 [==============================] - 0s 20ms/step\n"
     ]
    },
    {
     "data": {
      "text/plain": [
       "'Tomato___Septoria_leaf_spot'"
      ]
     },
     "execution_count": 148,
     "metadata": {},
     "output_type": "execute_result"
    }
   ],
   "source": [
    "img = image.load_img(r\"C:\\Users\\debas\\Desktop\\AI_AICTE\\Guided project\\Dataset Plant Disease\\Veg-dataset\\Veg-dataset\\test_set\\Tomato___Septoria_leaf_spot\\c26046cf-9799-43a0-b938-226cec847261___JR_Sept.L.S 2627.jpg\",target_size=(128,128))\n",
    "x = image.img_to_array(img)\n",
    "x = np.expand_dims(x,axis=0)\n",
    "y = np.argmax(model.predict(x),axis=1)\n",
    "index  = ['Pepper,_bell___Bacterial_spot','Pepper,_bell___healthy','Potato___Early_blight','Potato___healthy','Potato___Late_blight','Tomato___Bacterial_spot','Tomato___Late_blight','Tomato___Leaf_Mold','Tomato___Septoria_leaf_spot']\n",
    "index[y[0]]"
   ]
  },
  {
   "cell_type": "code",
   "execution_count": null,
   "id": "222cabed",
   "metadata": {},
   "outputs": [],
   "source": [
    "!pip install watson-machine-learning-client"
   ]
  },
  {
   "cell_type": "code",
   "execution_count": null,
   "id": "ed1309fa",
   "metadata": {},
   "outputs": [],
   "source": [
    "!pip install ruamel-yaml"
   ]
  },
  {
   "cell_type": "code",
   "execution_count": null,
   "id": "154b076c",
   "metadata": {},
   "outputs": [],
   "source": [
    "from watson_machine_learning import APIClient\n",
    "wml_credentials = {\n",
    "    \n",
    "}"
   ]
  }
 ],
 "metadata": {
  "kernelspec": {
   "display_name": "Python 3 (ipykernel)",
   "language": "python",
   "name": "python3"
  },
  "language_info": {
   "codemirror_mode": {
    "name": "ipython",
    "version": 3
   },
   "file_extension": ".py",
   "mimetype": "text/x-python",
   "name": "python",
   "nbconvert_exporter": "python",
   "pygments_lexer": "ipython3",
   "version": "3.9.7"
  }
 },
 "nbformat": 4,
 "nbformat_minor": 5
}
