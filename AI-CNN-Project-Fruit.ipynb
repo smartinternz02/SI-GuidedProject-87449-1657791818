{
 "cells": [
  {
   "cell_type": "code",
   "execution_count": null,
   "id": "f183a352",
   "metadata": {},
   "outputs": [],
   "source": [
    "# Do not run everytime\n",
    "from io import BytesIO\n",
    "import zipfile\n",
    "unzip = zipfile.ZipFile('Fertilizers_Recommendation_ System_For_Disease_ Prediction.zip')\n",
    "file_path = unzip.namelist()\n",
    "for path in file_path:\n",
    "    unzip.extract(path)"
   ]
  },
  {
   "cell_type": "code",
   "execution_count": 1,
   "id": "7d384929",
   "metadata": {
    "scrolled": true
   },
   "outputs": [],
   "source": [
    "from tensorflow.keras.preprocessing.image import ImageDataGenerator"
   ]
  },
  {
   "cell_type": "code",
   "execution_count": 162,
   "id": "a32e0fd3",
   "metadata": {},
   "outputs": [],
   "source": [
    "train_datagen = ImageDataGenerator(rescale=1./255, shear_range = 0.2, zoom_range=0.2,horizontal_flip=True)"
   ]
  },
  {
   "cell_type": "code",
   "execution_count": 163,
   "id": "5ab0befd",
   "metadata": {},
   "outputs": [],
   "source": [
    "test_datagen = ImageDataGenerator(rescale=1./255)"
   ]
  },
  {
   "cell_type": "code",
   "execution_count": 164,
   "id": "b26f1f67",
   "metadata": {},
   "outputs": [
    {
     "data": {
      "text/plain": [
       "'C:\\\\Users\\\\debas\\\\Desktop\\\\AI_AICTE\\\\Guided project'"
      ]
     },
     "execution_count": 164,
     "metadata": {},
     "output_type": "execute_result"
    }
   ],
   "source": [
    "pwd"
   ]
  },
  {
   "cell_type": "code",
   "execution_count": 165,
   "id": "83a51cf5",
   "metadata": {
    "scrolled": true
   },
   "outputs": [
    {
     "name": "stdout",
     "output_type": "stream",
     "text": [
      "Found 5384 images belonging to 6 classes.\n"
     ]
    }
   ],
   "source": [
    "x_train = train_datagen.flow_from_directory(r\"C:\\Users\\debas\\Desktop\\AI_AICTE\\Guided project\\Dataset Plant Disease\\fruit-dataset\\fruit-dataset\\train\",target_size=(128,128),class_mode='categorical' , batch_size=32)"
   ]
  },
  {
   "cell_type": "code",
   "execution_count": 166,
   "id": "1c19c9a3",
   "metadata": {},
   "outputs": [
    {
     "name": "stdout",
     "output_type": "stream",
     "text": [
      "Found 1686 images belonging to 6 classes.\n"
     ]
    }
   ],
   "source": [
    "x_test = test_datagen.flow_from_directory(r\"C:\\Users\\debas\\Desktop\\AI_AICTE\\Guided project\\Dataset Plant Disease\\fruit-dataset\\fruit-dataset\\test\",target_size=(128,128),class_mode='categorical' , batch_size=32)"
   ]
  },
  {
   "cell_type": "code",
   "execution_count": 167,
   "id": "5398a758",
   "metadata": {},
   "outputs": [
    {
     "data": {
      "text/plain": [
       "{'Apple___Black_rot': 0,\n",
       " 'Apple___healthy': 1,\n",
       " 'Corn_(maize)___Northern_Leaf_Blight': 2,\n",
       " 'Corn_(maize)___healthy': 3,\n",
       " 'Peach___Bacterial_spot': 4,\n",
       " 'Peach___healthy': 5}"
      ]
     },
     "execution_count": 167,
     "metadata": {},
     "output_type": "execute_result"
    }
   ],
   "source": [
    "x_train.class_indices"
   ]
  },
  {
   "cell_type": "code",
   "execution_count": 209,
   "id": "d46c668a",
   "metadata": {},
   "outputs": [],
   "source": [
    "from tensorflow.keras.models import Sequential\n",
    "from tensorflow.keras.layers import Dense, Convolution2D, MaxPooling2D, Flatten"
   ]
  },
  {
   "cell_type": "code",
   "execution_count": 210,
   "id": "e46650a2",
   "metadata": {},
   "outputs": [],
   "source": [
    "model = Sequential()"
   ]
  },
  {
   "cell_type": "code",
   "execution_count": 211,
   "id": "3cf62c2a",
   "metadata": {},
   "outputs": [],
   "source": [
    "model.add(Convolution2D(64,(7,7),input_shape=(128,128,3),activation='relu'))"
   ]
  },
  {
   "cell_type": "code",
   "execution_count": 212,
   "id": "49857cc9",
   "metadata": {},
   "outputs": [],
   "source": [
    "model.add(MaxPooling2D(pool_size=(2,2)))"
   ]
  },
  {
   "cell_type": "code",
   "execution_count": 213,
   "id": "1507428a",
   "metadata": {},
   "outputs": [],
   "source": [
    "model.add(Convolution2D(32,(3,3),activation='relu'))"
   ]
  },
  {
   "cell_type": "code",
   "execution_count": 214,
   "id": "f86f3639",
   "metadata": {},
   "outputs": [],
   "source": [
    "model.add(MaxPooling2D(pool_size=(2,2)))"
   ]
  },
  {
   "cell_type": "code",
   "execution_count": 215,
   "id": "10e1d3a9",
   "metadata": {},
   "outputs": [],
   "source": [
    "model.add(Flatten())"
   ]
  },
  {
   "cell_type": "code",
   "execution_count": 216,
   "id": "ea39ce63",
   "metadata": {},
   "outputs": [
    {
     "name": "stdout",
     "output_type": "stream",
     "text": [
      "Model: \"sequential_12\"\n",
      "_________________________________________________________________\n",
      " Layer (type)                Output Shape              Param #   \n",
      "=================================================================\n",
      " conv2d_18 (Conv2D)          (None, 122, 122, 64)      9472      \n",
      "                                                                 \n",
      " max_pooling2d_15 (MaxPoolin  (None, 61, 61, 64)       0         \n",
      " g2D)                                                            \n",
      "                                                                 \n",
      " conv2d_19 (Conv2D)          (None, 59, 59, 32)        18464     \n",
      "                                                                 \n",
      " max_pooling2d_16 (MaxPoolin  (None, 29, 29, 32)       0         \n",
      " g2D)                                                            \n",
      "                                                                 \n",
      " flatten_12 (Flatten)        (None, 26912)             0         \n",
      "                                                                 \n",
      "=================================================================\n",
      "Total params: 27,936\n",
      "Trainable params: 27,936\n",
      "Non-trainable params: 0\n",
      "_________________________________________________________________\n"
     ]
    }
   ],
   "source": [
    "model.summary()"
   ]
  },
  {
   "cell_type": "code",
   "execution_count": 217,
   "id": "6e819f9b",
   "metadata": {},
   "outputs": [],
   "source": [
    "model.add(Dense(200,activation = 'relu'))\n",
    "model.add(Dense(100,activation = 'relu'))\n",
    "model.add(Dense(50,activation = 'relu'))\n",
    "model.add(Dense(25, activation = 'relu'))"
   ]
  },
  {
   "cell_type": "code",
   "execution_count": 218,
   "id": "4f1d0f52",
   "metadata": {},
   "outputs": [],
   "source": [
    "model.add(Dense(6,activation='softmax'))"
   ]
  },
  {
   "cell_type": "code",
   "execution_count": 219,
   "id": "9765f260",
   "metadata": {},
   "outputs": [],
   "source": [
    "model.compile(loss='categorical_crossentropy',optimizer='adam',metrics=['accuracy'])"
   ]
  },
  {
   "cell_type": "code",
   "execution_count": 220,
   "id": "e369856f",
   "metadata": {},
   "outputs": [
    {
     "data": {
      "text/plain": [
       "169"
      ]
     },
     "execution_count": 220,
     "metadata": {},
     "output_type": "execute_result"
    }
   ],
   "source": [
    "len(x_train)"
   ]
  },
  {
   "cell_type": "code",
   "execution_count": 221,
   "id": "eded65e2",
   "metadata": {
    "scrolled": true
   },
   "outputs": [
    {
     "name": "stdout",
     "output_type": "stream",
     "text": [
      "Epoch 1/20\n",
      "84/84 [==============================] - 62s 731ms/step - loss: 1.1254 - accuracy: 0.5679 - val_loss: 0.5351 - val_accuracy: 0.8019\n",
      "Epoch 2/20\n",
      "84/84 [==============================] - 71s 842ms/step - loss: 0.5487 - accuracy: 0.8012 - val_loss: 0.4609 - val_accuracy: 0.8375\n",
      "Epoch 3/20\n",
      "84/84 [==============================] - 68s 803ms/step - loss: 0.3584 - accuracy: 0.8798 - val_loss: 0.3333 - val_accuracy: 0.8737\n",
      "Epoch 4/20\n",
      "84/84 [==============================] - 81s 965ms/step - loss: 0.3303 - accuracy: 0.8835 - val_loss: 0.3544 - val_accuracy: 0.8808\n",
      "Epoch 5/20\n",
      "84/84 [==============================] - 86s 1s/step - loss: 0.2909 - accuracy: 0.8995 - val_loss: 0.2622 - val_accuracy: 0.8998\n",
      "Epoch 6/20\n",
      "84/84 [==============================] - 109s 1s/step - loss: 0.2190 - accuracy: 0.9203 - val_loss: 0.2080 - val_accuracy: 0.9330\n",
      "Epoch 7/20\n",
      "84/84 [==============================] - 124s 1s/step - loss: 0.2565 - accuracy: 0.9085 - val_loss: 0.1927 - val_accuracy: 0.9371\n",
      "Epoch 8/20\n",
      "84/84 [==============================] - 116s 1s/step - loss: 0.2100 - accuracy: 0.9257 - val_loss: 0.2003 - val_accuracy: 0.9282\n",
      "Epoch 9/20\n",
      "84/84 [==============================] - 96s 1s/step - loss: 0.1845 - accuracy: 0.9338 - val_loss: 0.2855 - val_accuracy: 0.9004\n",
      "Epoch 10/20\n",
      "84/84 [==============================] - 92s 1s/step - loss: 0.1828 - accuracy: 0.9382 - val_loss: 0.1213 - val_accuracy: 0.9573\n",
      "Epoch 11/20\n",
      "84/84 [==============================] - 116s 1s/step - loss: 0.1918 - accuracy: 0.9393 - val_loss: 0.3729 - val_accuracy: 0.8683\n",
      "Epoch 12/20\n",
      "84/84 [==============================] - 115s 1s/step - loss: 0.1674 - accuracy: 0.9410 - val_loss: 0.1826 - val_accuracy: 0.9389\n",
      "Epoch 13/20\n",
      "84/84 [==============================] - 123s 1s/step - loss: 0.1578 - accuracy: 0.9470 - val_loss: 0.2038 - val_accuracy: 0.9235\n",
      "Epoch 14/20\n",
      "84/84 [==============================] - 131s 2s/step - loss: 0.1262 - accuracy: 0.9570 - val_loss: 0.1735 - val_accuracy: 0.9407\n",
      "Epoch 15/20\n",
      "84/84 [==============================] - 130s 2s/step - loss: 0.1177 - accuracy: 0.9618 - val_loss: 0.0789 - val_accuracy: 0.9727\n",
      "Epoch 16/20\n",
      "84/84 [==============================] - 123s 1s/step - loss: 0.1730 - accuracy: 0.9369 - val_loss: 0.1416 - val_accuracy: 0.9614\n",
      "Epoch 17/20\n",
      "84/84 [==============================] - 129s 2s/step - loss: 0.1416 - accuracy: 0.9518 - val_loss: 0.1259 - val_accuracy: 0.9555\n",
      "Epoch 18/20\n",
      "84/84 [==============================] - 130s 2s/step - loss: 0.1193 - accuracy: 0.9611 - val_loss: 0.2140 - val_accuracy: 0.9324\n",
      "Epoch 19/20\n",
      "84/84 [==============================] - 127s 2s/step - loss: 0.1131 - accuracy: 0.9651 - val_loss: 0.0822 - val_accuracy: 0.9698\n",
      "Epoch 20/20\n",
      "84/84 [==============================] - 123s 1s/step - loss: 0.1192 - accuracy: 0.9551 - val_loss: 0.1158 - val_accuracy: 0.9609\n"
     ]
    },
    {
     "data": {
      "text/plain": [
       "<keras.callbacks.History at 0x21aa79d57c0>"
      ]
     },
     "execution_count": 221,
     "metadata": {},
     "output_type": "execute_result"
    }
   ],
   "source": [
    "model.fit(x_train,steps_per_epoch= len(x_train)/2, validation_data=x_test,validation_steps=len(x_test),epochs=20)"
   ]
  },
  {
   "cell_type": "code",
   "execution_count": 250,
   "id": "5c802cf6",
   "metadata": {},
   "outputs": [
    {
     "name": "stderr",
     "output_type": "stream",
     "text": [
      "WARNING:absl:Found untraced functions such as _jit_compiled_convolution_op, _jit_compiled_convolution_op while saving (showing 2 of 2). These functions will not be directly callable after loading.\n"
     ]
    },
    {
     "name": "stdout",
     "output_type": "stream",
     "text": [
      "INFO:tensorflow:Assets written to: fruit\\assets\n"
     ]
    },
    {
     "name": "stderr",
     "output_type": "stream",
     "text": [
      "INFO:tensorflow:Assets written to: fruit\\assets\n"
     ]
    }
   ],
   "source": [
    "model.save('fruit')"
   ]
  },
  {
   "cell_type": "code",
   "execution_count": 223,
   "id": "c9d463a7",
   "metadata": {},
   "outputs": [],
   "source": [
    "import numpy as np\n",
    "from tensorflow.keras.models import load_model\n",
    "from tensorflow.keras.preprocessing import image"
   ]
  },
  {
   "cell_type": "code",
   "execution_count": 224,
   "id": "09d08156",
   "metadata": {},
   "outputs": [],
   "source": [
    "#Load the model\n",
    "model = load_model('fruit')"
   ]
  },
  {
   "cell_type": "code",
   "execution_count": 225,
   "id": "6e4ddf4f",
   "metadata": {},
   "outputs": [
    {
     "data": {
      "text/plain": [
       "{'Apple___Black_rot': 0,\n",
       " 'Apple___healthy': 1,\n",
       " 'Corn_(maize)___Northern_Leaf_Blight': 2,\n",
       " 'Corn_(maize)___healthy': 3,\n",
       " 'Peach___Bacterial_spot': 4,\n",
       " 'Peach___healthy': 5}"
      ]
     },
     "execution_count": 225,
     "metadata": {},
     "output_type": "execute_result"
    }
   ],
   "source": [
    "x_train.class_indices"
   ]
  },
  {
   "cell_type": "code",
   "execution_count": 226,
   "id": "f2949ab6",
   "metadata": {},
   "outputs": [],
   "source": [
    "index  = ['Apple___Black_rot','Apple___healthy','Corn_(maize)___Northern_Leaf_Blight','Corn_(maize)___healthy','Peach___Bacterial_spot','Peach___healthy']"
   ]
  },
  {
   "cell_type": "code",
   "execution_count": 240,
   "id": "7dde8096",
   "metadata": {},
   "outputs": [
    {
     "name": "stdout",
     "output_type": "stream",
     "text": [
      "1/1 [==============================] - 0s 57ms/step\n"
     ]
    },
    {
     "data": {
      "text/plain": [
       "'Apple___Black_rot'"
      ]
     },
     "execution_count": 240,
     "metadata": {},
     "output_type": "execute_result"
    }
   ],
   "source": [
    "img = image.load_img(r\"C:\\Users\\debas\\Desktop\\AI_AICTE\\Guided project\\Dataset Plant Disease\\fruit-dataset\\fruit-dataset\\test\\Apple___Black_rot\\0cefbd12-c195-40cd-b2d1-be0f9ee550b4___JR_FrgE.S 8762.jpg\",target_size=(128,128))\n",
    "x = image.img_to_array(img)\n",
    "x = np.expand_dims(x,axis=0)\n",
    "y = np.argmax(model.predict(x),axis=0)\n",
    "index  = ['Apple___Black_rot','Apple___healthy','Corn_(maize)___Northern_Leaf_Blight','Corn_(maize)___healthy','Peach___Bacterial_spot','Peach___healthy']\n",
    "index[y[0]]"
   ]
  },
  {
   "cell_type": "code",
   "execution_count": 248,
   "id": "feae019f",
   "metadata": {},
   "outputs": [
    {
     "name": "stdout",
     "output_type": "stream",
     "text": [
      "1/1 [==============================] - 0s 124ms/step\n"
     ]
    },
    {
     "data": {
      "text/plain": [
       "'Apple___healthy'"
      ]
     },
     "execution_count": 248,
     "metadata": {},
     "output_type": "execute_result"
    }
   ],
   "source": [
    "img = image.load_img(r\"C:\\Users\\debas\\Desktop\\AI_AICTE\\Guided project\\Dataset Plant Disease\\fruit-dataset\\fruit-dataset\\test\\Apple___healthy\\01b32971-5125-4982-98e2-22daa9ae864a___RS_HL 7977.jpg\",target_size=(128,128))\n",
    "x = image.img_to_array(img)\n",
    "x = np.expand_dims(x,axis=0)\n",
    "y = np.argmax(model.predict(x),axis=1)\n",
    "index  = ['Apple___Black_rot','Apple___healthy','Corn_(maize)___Northern_Leaf_Blight','Corn_(maize)___healthy','Peach___Bacterial_spot','Peach___healthy']\n",
    "index[y[0]]"
   ]
  },
  {
   "cell_type": "code",
   "execution_count": 242,
   "id": "dc5b7c4d",
   "metadata": {},
   "outputs": [
    {
     "name": "stdout",
     "output_type": "stream",
     "text": [
      "1/1 [==============================] - 0s 57ms/step\n"
     ]
    },
    {
     "data": {
      "text/plain": [
       "'Corn_(maize)___healthy'"
      ]
     },
     "execution_count": 242,
     "metadata": {},
     "output_type": "execute_result"
    }
   ],
   "source": [
    "img = image.load_img(r\"C:\\Users\\debas\\Desktop\\AI_AICTE\\Guided project\\Dataset Plant Disease\\fruit-dataset\\fruit-dataset\\test\\Corn_(maize)___healthy\\0a1a49a8-3a95-415a-b115-4d6d136b980b___R.S_HL 8216 copy.jpg\",target_size=(128,128))\n",
    "x = image.img_to_array(img)\n",
    "x = np.expand_dims(x,axis=0)\n",
    "y = np.argmax(model.predict(x),axis=1)\n",
    "index  = ['Apple___Black_rot','Apple___healthy','Corn_(maize)___Northern_Leaf_Blight','Corn_(maize)___healthy','Peach___Bacterial_spot','Peach___healthy']\n",
    "index[y[0]]"
   ]
  },
  {
   "cell_type": "code",
   "execution_count": 243,
   "id": "228c8289",
   "metadata": {},
   "outputs": [
    {
     "name": "stdout",
     "output_type": "stream",
     "text": [
      "1/1 [==============================] - 0s 111ms/step\n"
     ]
    },
    {
     "data": {
      "text/plain": [
       "'Corn_(maize)___Northern_Leaf_Blight'"
      ]
     },
     "execution_count": 243,
     "metadata": {},
     "output_type": "execute_result"
    }
   ],
   "source": [
    "img = image.load_img(r\"C:\\Users\\debas\\Desktop\\AI_AICTE\\Guided project\\Dataset Plant Disease\\fruit-dataset\\fruit-dataset\\test\\Corn_(maize)___Northern_Leaf_Blight\\1ca58163-0570-48af-bdef-2fd3a751dc0a___RS_NLB 3927.jpg\",target_size=(128,128))\n",
    "x = image.img_to_array(img)\n",
    "x = np.expand_dims(x,axis=0)\n",
    "y = np.argmax(model.predict(x),axis=1)\n",
    "index  = ['Apple___Black_rot','Apple___healthy','Corn_(maize)___Northern_Leaf_Blight','Corn_(maize)___healthy','Peach___Bacterial_spot','Peach___healthy']\n",
    "index[y[0]]"
   ]
  },
  {
   "cell_type": "code",
   "execution_count": 244,
   "id": "b3f7b020",
   "metadata": {},
   "outputs": [
    {
     "name": "stdout",
     "output_type": "stream",
     "text": [
      "1/1 [==============================] - 0s 71ms/step\n"
     ]
    },
    {
     "data": {
      "text/plain": [
       "'Peach___Bacterial_spot'"
      ]
     },
     "execution_count": 244,
     "metadata": {},
     "output_type": "execute_result"
    }
   ],
   "source": [
    "img = image.load_img(r\"C:\\Users\\debas\\Desktop\\AI_AICTE\\Guided project\\Dataset Plant Disease\\fruit-dataset\\fruit-dataset\\test\\Peach___Bacterial_spot\\0c68a2d0-0d07-49f0-9468-3262004f0348___Rutg._Bact.S 1975.jpg\",target_size=(128,128))\n",
    "x = image.img_to_array(img)\n",
    "x = np.expand_dims(x,axis=0)\n",
    "y = np.argmax(model.predict(x),axis=1)\n",
    "index  = ['Apple___Black_rot','Apple___healthy','Corn_(maize)___Northern_Leaf_Blight','Corn_(maize)___healthy','Peach___Bacterial_spot','Peach___healthy']\n",
    "index[y[0]]"
   ]
  },
  {
   "cell_type": "code",
   "execution_count": 245,
   "id": "78adfc1a",
   "metadata": {},
   "outputs": [
    {
     "name": "stdout",
     "output_type": "stream",
     "text": [
      "1/1 [==============================] - 0s 91ms/step\n"
     ]
    },
    {
     "data": {
      "text/plain": [
       "'Peach___healthy'"
      ]
     },
     "execution_count": 245,
     "metadata": {},
     "output_type": "execute_result"
    }
   ],
   "source": [
    "img = image.load_img(r\"C:\\Users\\debas\\Desktop\\AI_AICTE\\Guided project\\Dataset Plant Disease\\fruit-dataset\\fruit-dataset\\test\\Peach___healthy\\4c9e83c8-a4f9-4290-b701-5ef72d0a9576___Rutg._HL 2415.jpg\",target_size=(128,128))\n",
    "x = image.img_to_array(img)\n",
    "x = np.expand_dims(x,axis=0)\n",
    "y = np.argmax(model.predict(x),axis=1)\n",
    "index  = ['Apple___Black_rot','Apple___healthy','Corn_(maize)___Northern_Leaf_Blight','Corn_(maize)___healthy','Peach___Bacterial_spot','Peach___healthy']\n",
    "index[y[0]]"
   ]
  }
 ],
 "metadata": {
  "kernelspec": {
   "display_name": "Python 3 (ipykernel)",
   "language": "python",
   "name": "python3"
  },
  "language_info": {
   "codemirror_mode": {
    "name": "ipython",
    "version": 3
   },
   "file_extension": ".py",
   "mimetype": "text/x-python",
   "name": "python",
   "nbconvert_exporter": "python",
   "pygments_lexer": "ipython3",
   "version": "3.9.7"
  }
 },
 "nbformat": 4,
 "nbformat_minor": 5
}
